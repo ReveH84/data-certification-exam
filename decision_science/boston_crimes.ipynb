{
 "cells": [
  {
   "cell_type": "markdown",
   "metadata": {
    "slideshow": {
     "slide_type": "slide"
    }
   },
   "source": [
    "\n",
    "# Advisory mission for the Boston municipal authorities\n",
    "\n",
    "\n",
    "![title](assets/boston_logo.png)"
   ]
  },
  {
   "cell_type": "markdown",
   "metadata": {},
   "source": [
    "Welcome to the Decision Science exercise of your data certification exam!\n",
    "\n",
    "Here are a few words to describe how the `decision_science` directory is organised:"
   ]
  },
  {
   "cell_type": "code",
   "execution_count": 1,
   "metadata": {
    "ExecuteTime": {
     "end_time": "2021-06-28T14:41:29.166563Z",
     "start_time": "2021-06-28T14:41:29.019323Z"
    }
   },
   "outputs": [
    {
     "name": "stdout",
     "output_type": "stream",
     "text": [
      "\u001b[01;34m.\u001b[00m\r\n",
      "├── boston_crimes.ipynb\r\n",
      "├── \u001b[01;34mdata\u001b[00m\r\n",
      "├── data.py\r\n",
      "├── \u001b[01;34mdb\u001b[00m\r\n",
      "├── README.md\r\n",
      "└── \u001b[01;34mtests\u001b[00m\r\n",
      "\r\n",
      "3 directories, 3 files\r\n"
     ]
    }
   ],
   "source": [
    "# Start by running this cell to see the architecture of the directory\n",
    "!tree"
   ]
  },
  {
   "cell_type": "markdown",
   "metadata": {},
   "source": [
    "- the `boston_crimes.ipynb` notebook that you currently have under your eyes is the main document. You will find all the instructions here and except when it is explicitly specified, you should provide all your answers in this notebook;\n",
    "\n",
    "\n",
    "- the `data` and `db` folders will be filled-in throughout the exercise respectively with `.csv` datasets and a `.sqlite` file, for you to run all your analyses; \n",
    "\n",
    "\n",
    "- you will not have to interact with the `assets` folder for this exercise;\n",
    "\n",
    "\n",
    "- the `tests` folder will contain all the `.pickle` files that will be saved throughout the exercise with your key findings. Please run all the \"Save your results\" cells when completing the exercise!"
   ]
  },
  {
   "cell_type": "markdown",
   "metadata": {},
   "source": [
    "⚠️ **Important remark** before you dive into the exercise. This notebook is quite long and it is easy to get lost in it: take full advantage of the collapsible headers and of the table of content. If you have not yet activated these Jupyter Notebook extensions, you may consider doing so now!"
   ]
  },
  {
   "cell_type": "markdown",
   "metadata": {},
   "source": [
    "# Imports"
   ]
  },
  {
   "cell_type": "markdown",
   "metadata": {},
   "source": [
    "You can use this section to run your imports in a centralised manner throughout the exercise."
   ]
  },
  {
   "cell_type": "code",
   "execution_count": 2,
   "metadata": {
    "ExecuteTime": {
     "end_time": "2021-06-28T14:41:30.668547Z",
     "start_time": "2021-06-28T14:41:30.664750Z"
    }
   },
   "outputs": [],
   "source": [
    "# Load the nbresult package to be able to save your results \n",
    "from nbresult import ChallengeResult"
   ]
  },
  {
   "cell_type": "code",
   "execution_count": 3,
   "metadata": {
    "ExecuteTime": {
     "end_time": "2021-06-28T14:41:30.940966Z",
     "start_time": "2021-06-28T14:41:30.937719Z"
    }
   },
   "outputs": [],
   "source": [
    "# Useful import for data collection\n",
    "import sqlite3"
   ]
  },
  {
   "cell_type": "code",
   "execution_count": 4,
   "metadata": {
    "ExecuteTime": {
     "end_time": "2021-06-28T14:41:31.147916Z",
     "start_time": "2021-06-28T14:41:31.145503Z"
    }
   },
   "outputs": [],
   "source": [
    "# Useful imports for data manipulation and analysis\n",
    "import numpy as np\n",
    "import pandas as pd"
   ]
  },
  {
   "cell_type": "code",
   "execution_count": 5,
   "metadata": {
    "ExecuteTime": {
     "end_time": "2021-06-28T14:41:31.411719Z",
     "start_time": "2021-06-28T14:41:31.406712Z"
    }
   },
   "outputs": [],
   "source": [
    "# Useful imports for data visualisation\n",
    "import matplotlib.pyplot as plt\n",
    "import seaborn as sns"
   ]
  },
  {
   "cell_type": "code",
   "execution_count": 6,
   "metadata": {
    "ExecuteTime": {
     "end_time": "2021-06-28T14:41:31.618643Z",
     "start_time": "2021-06-28T14:41:31.615817Z"
    }
   },
   "outputs": [],
   "source": [
    "# Useful imports to estimate regression models\n",
    "import statsmodels.formula.api as smf"
   ]
  },
  {
   "cell_type": "markdown",
   "metadata": {
    "slideshow": {
     "slide_type": "slide"
    }
   },
   "source": [
    "# 1. Analysis for the mayor's team"
   ]
  },
  {
   "cell_type": "markdown",
   "metadata": {},
   "source": [
    "During the last municipal campaign in Boston, criminality has been a major topic of debates. As citizens have expressed strong expectations from her on that front, the newly-elected mayor of Boston is looking for data-based insights on criminality in the Massachussetts capital. She has mandated your economics and urbanism consulting firm, *The Locomotive*, for this study."
   ]
  },
  {
   "cell_type": "markdown",
   "metadata": {},
   "source": [
    "## 1.1 Load the database"
   ]
  },
  {
   "cell_type": "markdown",
   "metadata": {},
   "source": [
    "Download the `boston_crimes.sqlite` database from this [URL](https://wagon-public-datasets.s3.amazonaws.com/certification_france_2021_q2/boston_crimes.sqlite) and store it inside the `db` folder."
   ]
  },
  {
   "cell_type": "code",
   "execution_count": 7,
   "metadata": {
    "ExecuteTime": {
     "end_time": "2021-06-28T14:41:41.830894Z",
     "start_time": "2021-06-28T14:41:33.135946Z"
    }
   },
   "outputs": [
    {
     "name": "stdout",
     "output_type": "stream",
     "text": [
      "  % Total    % Received % Xferd  Average Speed   Time    Time     Time  Current\n",
      "                                 Dload  Upload   Total   Spent    Left  Speed\n",
      "100 19.1M  100 19.1M    0     0  3323k      0  0:00:05  0:00:05 --:--:-- 3721k\n"
     ]
    }
   ],
   "source": [
    "# You may directly run this cell to do so\n",
    "!curl https://wagon-public-datasets.s3.amazonaws.com/certification_france_2021_q2/boston_crimes.sqlite > db/boston_crimes.sqlite"
   ]
  },
  {
   "cell_type": "markdown",
   "metadata": {},
   "source": [
    "## 1.2 Familiarize yourself with the database"
   ]
  },
  {
   "cell_type": "markdown",
   "metadata": {},
   "source": [
    "This section aims at giving you a first overview of the database. \n",
    "\n",
    "As you will see, it consists in three tables: \n",
    "\n",
    "- the `incident_reports` table has been provided by the Police Department of Boston. Each observation corresponds to a criminal incident that has required an intervention by the police in the municipality of Boston;  \n",
    "\n",
    "\n",
    "\n",
    "- the `districts` table has been provided by the Urbanism Department of Boston. It gathers geographical information about the various police districts of Boston;  \n",
    "\n",
    "\n",
    "\n",
    "- and the `indicators` table has been shared by the Economics Department of Boston, which keeps track of various indicators of the social and economic activity of Boston neighborhoods. Each observation corresponds to a police district.\n",
    "\n",
    "More information about the different fields of these three tables can be found in the dedicated `README.md` file"
   ]
  },
  {
   "cell_type": "markdown",
   "metadata": {},
   "source": [
    "### Connect to the database"
   ]
  },
  {
   "cell_type": "markdown",
   "metadata": {},
   "source": [
    "**🔍 Using your preferred SQL client, connect to the database and browse through it as you wish to get acquainted with the data.**"
   ]
  },
  {
   "cell_type": "markdown",
   "metadata": {},
   "source": [
    "### Draw a schema of the database"
   ]
  },
  {
   "cell_type": "markdown",
   "metadata": {},
   "source": [
    "**📝 Draw the database schema thanks to the [schema editor](https://kitt.lewagon.com/db) on Kitt.**"
   ]
  },
  {
   "cell_type": "markdown",
   "metadata": {},
   "source": [
    "**📝 Download the schema and save it as `boston_crimes.xml` in the `db` folder.**"
   ]
  },
  {
   "cell_type": "markdown",
   "metadata": {},
   "source": [
    "## 1.3 Extract the relevant dataset"
   ]
  },
  {
   "cell_type": "markdown",
   "metadata": {},
   "source": [
    "Now that you have a good overview of the database, you can kick off the work! You will start with an SQL query to gather the relevant information."
   ]
  },
  {
   "cell_type": "markdown",
   "metadata": {},
   "source": [
    "### Build the dataset"
   ]
  },
  {
   "cell_type": "markdown",
   "metadata": {},
   "source": [
    "We want to investigate the influence of the socio-economic characteristics of Boston's different districts on the number of crime reports and incidents. To do so, we need to extract the relevant dataset. **Each row should correspond to one of the 12 police districts of Boston** (as listed in the `districts` table of the database).\n",
    "\n",
    "To identify the district, we will need **the following columns**: \n",
    "\n",
    "- the `CODE` of the police district (1 letter and 1 or 2 numbers);\n",
    "- the full `NAME` of the police district.\n",
    "\n",
    "Additionally, you will need to **create an additional field** (which will serve as dependent variable in future regressions): `NB_INCIDENTS`, i.e. the total number of incidents reported in the police district over the period covered by the data at hand (2015-2019).\n",
    "\n",
    "Eventually, we want the dataset to **include several socio-economic indicators**:\n",
    "\n",
    "- `MEDIAN_AGE`;\n",
    "- `TOTAL_POP`;\n",
    "- `PERC_OF_30_34`;\n",
    "- `PERC_MARRIED_COUPLE_FAMILY`;\n",
    "- `PER_CAPITA_INCOME`;\n",
    "- `PERC_OTHER_STATE_OR_ABROAD`;\n",
    "- `PERC_LESS_THAN_HIGH_SCHOOL`;\n",
    "- `PERC_COLLEGE_GRADUATES`. \n",
    "\n",
    "Overall, your dataset should comprise 12 rows and 11 columns.\n",
    "\n",
    "Eventually, note that **the resulting DataFrame must be ordered by the number of incidents**, from the largest to the smallest total."
   ]
  },
  {
   "cell_type": "markdown",
   "metadata": {},
   "source": [
    "**📝 Write the SQL query you need to fetch the data. Save it as a `str` in the `query` variable.**"
   ]
  },
  {
   "cell_type": "code",
   "execution_count": 61,
   "metadata": {
    "ExecuteTime": {
     "end_time": "2021-06-28T14:41:43.841745Z",
     "start_time": "2021-06-28T14:41:43.838170Z"
    }
   },
   "outputs": [],
   "source": [
    "query = \"\"\"\n",
    "SELECT ir.district as district_code, d.code as district_name, count(INCIDENT_NUMBER) as Nb_incidents,i.MEDIAN_AGE, i.TOTAL_POP,i.PERC_OF_30_34,i.PERC_MARRIED_COUPLE_FAMILY,i.PER_CAPITA_INCOME,\ti.PERC_OTHER_STATE_OR_ABROAD,i.PERC_LESS_THAN_HIGH_SCHOOL,i.PERC_COLLEGE_GRADUATES\n",
    "FROM incident_reports as ir\n",
    "JOIN districts d ON ir.district=d.code\n",
    "JOIN indicators i ON i.code=ir.DISTRICT \n",
    "GROUP BY ir.district\n",
    "ORDER BY Nb_incidents desc\n",
    "\n",
    "\"\"\""
   ]
  },
  {
   "cell_type": "markdown",
   "metadata": {},
   "source": [
    "**📝 Store the output of the query in a `DataFrame` named `crimes_df`. Display the 5 first rows, as well as the shape of the dataset.**"
   ]
  },
  {
   "cell_type": "code",
   "execution_count": 76,
   "metadata": {
    "ExecuteTime": {
     "end_time": "2021-06-28T14:41:47.767904Z",
     "start_time": "2021-06-28T14:41:47.360004Z"
    },
    "tags": [
     "challengify"
    ]
   },
   "outputs": [],
   "source": [
    "import sqlite3\n",
    "\n",
    "conn = sqlite3.connect('data/boston_crimes.sqlite')\n",
    "c = conn.cursor()"
   ]
  },
  {
   "cell_type": "code",
   "execution_count": 77,
   "metadata": {},
   "outputs": [
    {
     "ename": "OperationalError",
     "evalue": "no such table: incident_reports",
     "output_type": "error",
     "traceback": [
      "\u001b[0;31m---------------------------------------------------------------------------\u001b[0m",
      "\u001b[0;31mOperationalError\u001b[0m                          Traceback (most recent call last)",
      "\u001b[0;32m<ipython-input-77-78074e6101bb>\u001b[0m in \u001b[0;36m<module>\u001b[0;34m\u001b[0m\n\u001b[0;32m----> 1\u001b[0;31m \u001b[0mc\u001b[0m\u001b[0;34m.\u001b[0m\u001b[0mexecute\u001b[0m\u001b[0;34m(\u001b[0m\u001b[0mquery\u001b[0m\u001b[0;34m)\u001b[0m\u001b[0;34m\u001b[0m\u001b[0;34m\u001b[0m\u001b[0m\n\u001b[0m\u001b[1;32m      2\u001b[0m \u001b[0mcrimes_df\u001b[0m \u001b[0;34m=\u001b[0m \u001b[0mc\u001b[0m\u001b[0;34m.\u001b[0m\u001b[0mfetchall\u001b[0m\u001b[0;34m(\u001b[0m\u001b[0;34m)\u001b[0m\u001b[0;34m\u001b[0m\u001b[0;34m\u001b[0m\u001b[0m\n",
      "\u001b[0;31mOperationalError\u001b[0m: no such table: incident_reports"
     ]
    }
   ],
   "source": [
    "c.execute(query)\n",
    "crimes_df = c.fetchall()"
   ]
  },
  {
   "cell_type": "markdown",
   "metadata": {},
   "source": [
    "### Save your results"
   ]
  },
  {
   "cell_type": "markdown",
   "metadata": {},
   "source": [
    "You can run the following cell to save your results:"
   ]
  },
  {
   "cell_type": "code",
   "execution_count": 75,
   "metadata": {
    "ExecuteTime": {
     "end_time": "2021-06-28T14:42:01.127694Z",
     "start_time": "2021-06-28T14:42:01.123160Z"
    }
   },
   "outputs": [
    {
     "ename": "NameError",
     "evalue": "name 'crimes_df' is not defined",
     "output_type": "error",
     "traceback": [
      "\u001b[0;31m---------------------------------------------------------------------------\u001b[0m",
      "\u001b[0;31mNameError\u001b[0m                                 Traceback (most recent call last)",
      "\u001b[0;32m<ipython-input-75-e8f34d57a642>\u001b[0m in \u001b[0;36m<module>\u001b[0;34m\u001b[0m\n\u001b[0;32m----> 1\u001b[0;31m \u001b[0mChallengeResult\u001b[0m\u001b[0;34m(\u001b[0m\u001b[0;34m'sql'\u001b[0m\u001b[0;34m,\u001b[0m \u001b[0mquery\u001b[0m\u001b[0;34m=\u001b[0m\u001b[0mquery\u001b[0m\u001b[0;34m,\u001b[0m \u001b[0mdata\u001b[0m\u001b[0;34m=\u001b[0m\u001b[0mcrimes_df\u001b[0m\u001b[0;34m)\u001b[0m\u001b[0;34m.\u001b[0m\u001b[0mwrite\u001b[0m\u001b[0;34m(\u001b[0m\u001b[0;34m)\u001b[0m\u001b[0;34m\u001b[0m\u001b[0;34m\u001b[0m\u001b[0m\n\u001b[0m",
      "\u001b[0;31mNameError\u001b[0m: name 'crimes_df' is not defined"
     ]
    }
   ],
   "source": [
    "ChallengeResult('sql', query=query, data=crimes_df).write()"
   ]
  },
  {
   "cell_type": "markdown",
   "metadata": {},
   "source": [
    "## 1.4 Linear regression - The socio-economic determinants of criminality\n",
    "\n",
    "As mentioned above, we want to investigate the impact of the socio-economic characteristics of the different Boston police districts on the number of incidents that are reported in these areas. \n",
    "- We are going to use the number of incidents as dependent variable \n",
    "- our regressors will be the various socio-economic indicators extracted from the database."
   ]
  },
  {
   "cell_type": "markdown",
   "metadata": {},
   "source": [
    "### 1.4.1 Start from a fresh dataset\n",
    "\n",
    "To make sure that you are using the right data, you can load a fresh dataset from this [URL](https://wagon-public-datasets.s3.amazonaws.com/certification_france_2021_q2/regression.csv).\n",
    "\n",
    "**📝 Load the data into a DataFrame named `data`**"
   ]
  },
  {
   "cell_type": "code",
   "execution_count": 11,
   "metadata": {},
   "outputs": [],
   "source": [
    "import pandas as pd"
   ]
  },
  {
   "cell_type": "code",
   "execution_count": 22,
   "metadata": {
    "ExecuteTime": {
     "end_time": "2021-06-28T14:43:43.739128Z",
     "start_time": "2021-06-28T14:43:43.546757Z"
    },
    "scrolled": false,
    "tags": [
     "challengify"
    ]
   },
   "outputs": [
    {
     "name": "stdout",
     "output_type": "stream",
     "text": [
      "(12, 11)\n"
     ]
    },
    {
     "data": {
      "text/html": [
       "<div>\n",
       "<style scoped>\n",
       "    .dataframe tbody tr th:only-of-type {\n",
       "        vertical-align: middle;\n",
       "    }\n",
       "\n",
       "    .dataframe tbody tr th {\n",
       "        vertical-align: top;\n",
       "    }\n",
       "\n",
       "    .dataframe thead th {\n",
       "        text-align: right;\n",
       "    }\n",
       "</style>\n",
       "<table border=\"1\" class=\"dataframe\">\n",
       "  <thead>\n",
       "    <tr style=\"text-align: right;\">\n",
       "      <th></th>\n",
       "      <th>MEDIAN_AGE</th>\n",
       "      <th>TOTAL_POP</th>\n",
       "      <th>PERC_OF_30_34</th>\n",
       "      <th>PERC_MARRIED_COUPLE_FAMILY</th>\n",
       "      <th>PER_CAPITA_INCOME</th>\n",
       "      <th>PERC_OTHER_STATE_OR_ABROAD</th>\n",
       "      <th>PERC_LESS_THAN_HIGH_SCHOOL</th>\n",
       "      <th>PERC_COLLEGE_GRADUATES</th>\n",
       "      <th>CODE</th>\n",
       "      <th>NB_INCIDENTS</th>\n",
       "      <th>NAME</th>\n",
       "    </tr>\n",
       "  </thead>\n",
       "  <tbody>\n",
       "    <tr>\n",
       "      <th>0</th>\n",
       "      <td>30.8</td>\n",
       "      <td>55297</td>\n",
       "      <td>52.8</td>\n",
       "      <td>26.4</td>\n",
       "      <td>41261</td>\n",
       "      <td>8.6</td>\n",
       "      <td>6.7</td>\n",
       "      <td>10.5</td>\n",
       "      <td>D14</td>\n",
       "      <td>13788</td>\n",
       "      <td>Brighton</td>\n",
       "    </tr>\n",
       "    <tr>\n",
       "      <th>1</th>\n",
       "      <td>35.7</td>\n",
       "      <td>19890</td>\n",
       "      <td>28.2</td>\n",
       "      <td>36.4</td>\n",
       "      <td>75339</td>\n",
       "      <td>3.4</td>\n",
       "      <td>7.9</td>\n",
       "      <td>8.2</td>\n",
       "      <td>A15</td>\n",
       "      <td>4765</td>\n",
       "      <td>Charlestown</td>\n",
       "    </tr>\n",
       "    <tr>\n",
       "      <th>2</th>\n",
       "      <td>33.4</td>\n",
       "      <td>126909</td>\n",
       "      <td>28.2</td>\n",
       "      <td>26.6</td>\n",
       "      <td>29767</td>\n",
       "      <td>2.4</td>\n",
       "      <td>18.0</td>\n",
       "      <td>17.1</td>\n",
       "      <td>C11</td>\n",
       "      <td>32875</td>\n",
       "      <td>Dorchester</td>\n",
       "    </tr>\n",
       "    <tr>\n",
       "      <th>3</th>\n",
       "      <td>33.5</td>\n",
       "      <td>18306</td>\n",
       "      <td>32.5</td>\n",
       "      <td>35.8</td>\n",
       "      <td>80057</td>\n",
       "      <td>14.8</td>\n",
       "      <td>15.4</td>\n",
       "      <td>6.9</td>\n",
       "      <td>A1</td>\n",
       "      <td>26260</td>\n",
       "      <td>Downtown</td>\n",
       "    </tr>\n",
       "    <tr>\n",
       "      <th>4</th>\n",
       "      <td>30.6</td>\n",
       "      <td>47263</td>\n",
       "      <td>31.1</td>\n",
       "      <td>30.4</td>\n",
       "      <td>31473</td>\n",
       "      <td>3.5</td>\n",
       "      <td>27.2</td>\n",
       "      <td>11.5</td>\n",
       "      <td>A7</td>\n",
       "      <td>9691</td>\n",
       "      <td>East Boston</td>\n",
       "    </tr>\n",
       "  </tbody>\n",
       "</table>\n",
       "</div>"
      ],
      "text/plain": [
       "   MEDIAN_AGE  TOTAL_POP  PERC_OF_30_34  PERC_MARRIED_COUPLE_FAMILY  \\\n",
       "0        30.8      55297           52.8                        26.4   \n",
       "1        35.7      19890           28.2                        36.4   \n",
       "2        33.4     126909           28.2                        26.6   \n",
       "3        33.5      18306           32.5                        35.8   \n",
       "4        30.6      47263           31.1                        30.4   \n",
       "\n",
       "   PER_CAPITA_INCOME  PERC_OTHER_STATE_OR_ABROAD  PERC_LESS_THAN_HIGH_SCHOOL  \\\n",
       "0              41261                         8.6                         6.7   \n",
       "1              75339                         3.4                         7.9   \n",
       "2              29767                         2.4                        18.0   \n",
       "3              80057                        14.8                        15.4   \n",
       "4              31473                         3.5                        27.2   \n",
       "\n",
       "   PERC_COLLEGE_GRADUATES CODE  NB_INCIDENTS         NAME  \n",
       "0                    10.5  D14         13788     Brighton  \n",
       "1                     8.2  A15          4765  Charlestown  \n",
       "2                    17.1  C11         32875   Dorchester  \n",
       "3                     6.9   A1         26260     Downtown  \n",
       "4                    11.5   A7          9691  East Boston  "
      ]
     },
     "execution_count": 22,
     "metadata": {},
     "output_type": "execute_result"
    }
   ],
   "source": [
    "# YOUR CODE HERE\n",
    "data = pd.read_csv('data/boston_crimes_regression.csv')\n",
    "print(data.shape)\n",
    "data.head()"
   ]
  },
  {
   "cell_type": "markdown",
   "metadata": {},
   "source": [
    "### 1.4.2 Run the regression and output its summary"
   ]
  },
  {
   "cell_type": "markdown",
   "metadata": {
    "slideshow": {
     "slide_type": "slide"
    }
   },
   "source": [
    "Thanks to the Statsmodels Formula API, we will run the regression described below. \n",
    "\n",
    "The dependent variable (or target variable) should be **the total number of incidents** reported in each police district.\n",
    "\n",
    "We will focus on the following regressors: \n",
    "\n",
    "- the **median age** in the district, whose effect is difficult to anticipate on the number of crimes;\n",
    " \n",
    " \n",
    "- the **percentage of 30-34 years old** in the district, whose effect is also unclear a priori;\n",
    " \n",
    " \n",
    "- the **share of families with a married couple** among all households, which could be anticipated to have a negative effect on criminality (more attention to safety among residents...);\n",
    " \n",
    " \n",
    "- the **percentage of residents having moved from abroad or from another US state over the last year**, mobility being often associated with social marginalisation and possibly with a higher risk of resorting to illegal activities;\n",
    " \n",
    " \n",
    "- the **percentage of residents having stopped their studies before getting a high school degree**. Economic models would suggest that due to the more narrow job opportunities to which this group has access, the incentive is stronger to resort to illicit activities;\n",
    " \n",
    " \n",
    "- the **percentage of college graduates** in the district, which we would expect to have an opposite effect.\n",
    " \n",
    "**📝 Based on these indications, estimate the linear regression model and output its summary in this section of the notebook. Store the estimated model inside a `model` variable.**"
   ]
  },
  {
   "cell_type": "code",
   "execution_count": 23,
   "metadata": {},
   "outputs": [
    {
     "data": {
      "text/plain": [
       "Index(['MEDIAN_AGE', 'TOTAL_POP', 'PERC_OF_30_34',\n",
       "       'PERC_MARRIED_COUPLE_FAMILY', 'PER_CAPITA_INCOME',\n",
       "       'PERC_OTHER_STATE_OR_ABROAD', 'PERC_LESS_THAN_HIGH_SCHOOL',\n",
       "       'PERC_COLLEGE_GRADUATES', 'CODE', 'NB_INCIDENTS', 'NAME'],\n",
       "      dtype='object')"
      ]
     },
     "execution_count": 23,
     "metadata": {},
     "output_type": "execute_result"
    }
   ],
   "source": [
    "data.columns"
   ]
  },
  {
   "cell_type": "code",
   "execution_count": 26,
   "metadata": {
    "ExecuteTime": {
     "end_time": "2021-06-28T14:44:02.640004Z",
     "start_time": "2021-06-28T14:44:02.633428Z"
    },
    "slideshow": {
     "slide_type": "slide"
    },
    "tags": [
     "challengify"
    ]
   },
   "outputs": [
    {
     "name": "stdout",
     "output_type": "stream",
     "text": [
      "                            OLS Regression Results                            \n",
      "==============================================================================\n",
      "Dep. Variable:           NB_INCIDENTS   R-squared:                       0.899\n",
      "Model:                            OLS   Adj. R-squared:                  0.777\n",
      "Method:                 Least Squares   F-statistic:                     7.391\n",
      "Date:                Tue, 29 Jun 2021   Prob (F-statistic):             0.0222\n",
      "Time:                        12:09:06   Log-Likelihood:                -114.59\n",
      "No. Observations:                  12   AIC:                             243.2\n",
      "Df Residuals:                       5   BIC:                             246.6\n",
      "Df Model:                           6                                         \n",
      "Covariance Type:            nonrobust                                         \n",
      "==============================================================================================\n",
      "                                 coef    std err          t      P>|t|      [0.025      0.975]\n",
      "----------------------------------------------------------------------------------------------\n",
      "Intercept                   1.358e+04   6.16e+04      0.220      0.834   -1.45e+05    1.72e+05\n",
      "MEDIAN_AGE                  2252.7344   1237.522      1.820      0.128    -928.416    5433.885\n",
      "PERC_OF_30_34               -532.9973    468.940     -1.137      0.307   -1738.447     672.452\n",
      "PERC_MARRIED_COUPLE_FAMILY -2115.1839    408.344     -5.180      0.004   -3164.866   -1065.502\n",
      "PERC_OTHER_STATE_OR_ABROAD  1787.6939    532.432      3.358      0.020     419.034    3156.354\n",
      "PERC_LESS_THAN_HIGH_SCHOOL   112.7375    493.977      0.228      0.829   -1157.072    1382.547\n",
      "PERC_COLLEGE_GRADUATES        19.4699    458.775      0.042      0.968   -1159.850    1198.790\n",
      "==============================================================================\n",
      "Omnibus:                        6.933   Durbin-Watson:                   2.255\n",
      "Prob(Omnibus):                  0.031   Jarque-Bera (JB):                3.155\n",
      "Skew:                           1.148   Prob(JB):                        0.206\n",
      "Kurtosis:                       4.020   Cond. No.                     2.42e+03\n",
      "==============================================================================\n",
      "\n",
      "Warnings:\n",
      "[1] Standard Errors assume that the covariance matrix of the errors is correctly specified.\n",
      "[2] The condition number is large, 2.42e+03. This might indicate that there are\n",
      "strong multicollinearity or other numerical problems.\n"
     ]
    },
    {
     "name": "stderr",
     "output_type": "stream",
     "text": [
      "/home/xavier/.pyenv/versions/3.8.6/envs/lewagon/lib/python3.8/site-packages/scipy/stats/stats.py:1603: UserWarning: kurtosistest only valid for n>=20 ... continuing anyway, n=12\n",
      "  warnings.warn(\"kurtosistest only valid for n>=20 ... continuing \"\n"
     ]
    }
   ],
   "source": [
    "import statsmodels.formula.api as smf\n",
    "\n",
    "features = ['MEDIAN_AGE', 'PERC_OF_30_34','PERC_MARRIED_COUPLE_FAMILY', \n",
    "       'PERC_OTHER_STATE_OR_ABROAD', 'PERC_LESS_THAN_HIGH_SCHOOL', 'PERC_COLLEGE_GRADUATES']\n",
    "\n",
    "formula = \"NB_INCIDENTS ~ \" + ' + '.join(features)\n",
    "model = smf.ols(formula = formula, data = data).fit()\n",
    "\n",
    "print(model.summary())\n"
   ]
  },
  {
   "cell_type": "code",
   "execution_count": null,
   "metadata": {},
   "outputs": [],
   "source": []
  },
  {
   "cell_type": "markdown",
   "metadata": {},
   "source": [
    "### Save your results\n",
    "\n",
    "You can run the following cell to save your results:"
   ]
  },
  {
   "cell_type": "code",
   "execution_count": 27,
   "metadata": {
    "ExecuteTime": {
     "end_time": "2021-06-28T14:44:39.078362Z",
     "start_time": "2021-06-28T14:44:39.071755Z"
    }
   },
   "outputs": [],
   "source": [
    "ChallengeResult(\n",
    "    'linear_regression_model',\n",
    "    data=data,\n",
    "    model=model\n",
    ").write()"
   ]
  },
  {
   "cell_type": "markdown",
   "metadata": {},
   "source": [
    "### 1.4.3 Statistical inference questions 🤯"
   ]
  },
  {
   "cell_type": "markdown",
   "metadata": {},
   "source": [
    "You will now be asked a series of statistical inference and methodological questions about the regression model estimated above. Don't worry if results do not perfectly fit the \"predictions\" that we made earlier about the impact of each regressor: the goal was to form an *a priori* hypothesis, which is validated or invalidated through this empirical analysis."
   ]
  },
  {
   "cell_type": "markdown",
   "metadata": {},
   "source": [
    "#### Questions on the results"
   ]
  },
  {
   "cell_type": "markdown",
   "metadata": {},
   "source": [
    "**❓ Is the median age associated with a positive (increasing the number of crimes) or a negative (decreasing the target variable) effect on the number of crime incidents? Simply write your answer as a string below**"
   ]
  },
  {
   "cell_type": "code",
   "execution_count": 202,
   "metadata": {
    "ExecuteTime": {
     "end_time": "2021-06-28T17:16:11.164934Z",
     "start_time": "2021-06-28T17:16:11.161703Z"
    }
   },
   "outputs": [],
   "source": [
    "answer_median_age = '''\n",
    "the median age is associated with a postive effect on the target\n",
    "'''"
   ]
  },
  {
   "cell_type": "markdown",
   "metadata": {},
   "source": [
    "**❓ What is the t-statistic associated with the median age regressor? How is it computed?**\n",
    "\n",
    "💡 Hint: We are looking at a ratio"
   ]
  },
  {
   "cell_type": "code",
   "execution_count": 46,
   "metadata": {
    "ExecuteTime": {
     "end_time": "2021-06-28T17:16:26.481219Z",
     "start_time": "2021-06-28T17:16:26.477753Z"
    }
   },
   "outputs": [],
   "source": [
    "answer_t_statistic = '''\n",
    "t-statistic est la valeur du nombre d'incidents pour des valeurs extremes de l'age median\n",
    "'''"
   ]
  },
  {
   "cell_type": "markdown",
   "metadata": {},
   "source": [
    "**📝 Recompute approximately the t-statistic based on the regression summary.**\n",
    "\n",
    "As it is a ratio $t = \\frac{numerator}{denominator}$:\n",
    "- Store the numerator into a `numerator` variable\n",
    "- Store the denominator into a `denominator` variable\n",
    "- Store the t-statistic into a `t_median_age` variable"
   ]
  },
  {
   "cell_type": "code",
   "execution_count": 47,
   "metadata": {
    "ExecuteTime": {
     "end_time": "2021-06-28T15:16:27.408933Z",
     "start_time": "2021-06-28T15:16:27.404054Z"
    },
    "tags": [
     "challengify"
    ]
   },
   "outputs": [
    {
     "data": {
      "text/plain": [
       "1.8203590724043692"
      ]
     },
     "execution_count": 47,
     "metadata": {},
     "output_type": "execute_result"
    }
   ],
   "source": [
    "# YOUR CODE HERE\n",
    "numerator = 2252.7344\n",
    "denominator = 1237.522\n",
    "t_median_age = numerator / denominator\n",
    "t_median_age"
   ]
  },
  {
   "cell_type": "markdown",
   "metadata": {},
   "source": [
    "**❓ What is the p-value associated with the median age regressor? Store it in the `pvalue_median_age` variable (you may directly copy-paste it from the regression summary).** "
   ]
  },
  {
   "cell_type": "code",
   "execution_count": 48,
   "metadata": {
    "ExecuteTime": {
     "end_time": "2021-06-28T15:16:28.069779Z",
     "start_time": "2021-06-28T15:16:28.066352Z"
    },
    "tags": [
     "challengify"
    ]
   },
   "outputs": [],
   "source": [
    "pvalue_median_age = 1.820"
   ]
  },
  {
   "cell_type": "markdown",
   "metadata": {},
   "source": [
    "**❓ What does this p-value mean for the median age? Is its effect statistically significant at the 95% confidence level? At the 90% confidence level? Simply formulate your answer in the cell below.**"
   ]
  },
  {
   "cell_type": "code",
   "execution_count": 49,
   "metadata": {
    "ExecuteTime": {
     "end_time": "2021-06-28T16:02:20.260700Z",
     "start_time": "2021-06-28T16:02:20.257840Z"
    }
   },
   "outputs": [],
   "source": [
    "answer_p_value = \"\"\"\n",
    "la p-value est la probabilité que la variable age median influe sur le nb d'incidents. Elle est liée à la t-statistic.\n",
    "Mais la p-value et élevée donc on ne peut pas conclure.\n",
    "\"\"\""
   ]
  },
  {
   "cell_type": "markdown",
   "metadata": {},
   "source": [
    "**❓ What are the two regressors whose effect is statistically significant at the 95% confidence level in this regression model? Store the name of the variables as a list of strings in the `significant_regressors` variable.**"
   ]
  },
  {
   "cell_type": "code",
   "execution_count": 50,
   "metadata": {
    "ExecuteTime": {
     "end_time": "2021-06-28T16:02:21.152782Z",
     "start_time": "2021-06-28T16:02:21.149577Z"
    },
    "tags": [
     "challengify"
    ]
   },
   "outputs": [],
   "source": [
    "significant_regressors = ['PERC_MARRIED_COUPLE_FAMILY','PERC_OTHER_STATE_OR_ABROAD']\n"
   ]
  },
  {
   "cell_type": "markdown",
   "metadata": {},
   "source": [
    "**❓ Holding all other regressors constant, by how much does the total number of incidents increase or decrease when the share of families with a married couple increases by 1 percentage point in the district? Please formulate a full sentence with statistical rigor!**"
   ]
  },
  {
   "cell_type": "code",
   "execution_count": 51,
   "metadata": {
    "ExecuteTime": {
     "end_time": "2021-06-28T16:02:21.464976Z",
     "start_time": "2021-06-28T16:02:21.461948Z"
    }
   },
   "outputs": [],
   "source": [
    "answer_how_much_increase = \"\"\"\n",
    "Si toutes les autres features sont constantes, le nombre d'incidents diminuent d'environ 2115 pour 1% d'augmentation des couples dans le district\n",
    "\"\"\""
   ]
  },
  {
   "cell_type": "code",
   "execution_count": null,
   "metadata": {},
   "outputs": [],
   "source": []
  },
  {
   "cell_type": "markdown",
   "metadata": {},
   "source": [
    "#### Limits of this regression model"
   ]
  },
  {
   "cell_type": "markdown",
   "metadata": {},
   "source": [
    "You had asked the intern on the team to estimate a linear regression model so as to investigate the socio-economic determinants of crime in Boston. The results above are those that he presented. In the email he sent to you, he added:\n",
    "\n",
    "> *You will probably notice the extremely high R-squared score of this model: I think we have an excellent fit and the results are solid* 😄\n",
    "\n",
    "But you have very strong doubts about this regression and you think it is a perfect occasion to give some very important advice to your intern..."
   ]
  },
  {
   "cell_type": "markdown",
   "metadata": {},
   "source": [
    "**❓  What is the main limitation of this (clearly spurious) regression according to you? This observation explains why we are getting a very high R-squared and large standard errors. Please provide your answer in the following Markdown cell.**"
   ]
  },
  {
   "cell_type": "code",
   "execution_count": 52,
   "metadata": {
    "ExecuteTime": {
     "end_time": "2021-06-28T16:02:22.474444Z",
     "start_time": "2021-06-28T16:02:22.470883Z"
    }
   },
   "outputs": [],
   "source": [
    "answer_limitations = \"\"\"\n",
    "excepté les features 'PERC_MARRIED_COUPLE_FAMILY','PERC_OTHER_STATE_OR_ABROAD' toutes les autres ont des p-values associées\\\n",
    "> 0.05  donc on ne peut pas conclure définitivement sur leurs influences\n",
    "\"\"\""
   ]
  },
  {
   "cell_type": "markdown",
   "metadata": {},
   "source": [
    "### Save your results\n",
    "\n",
    "You can run the following cell to save your results:"
   ]
  },
  {
   "cell_type": "code",
   "execution_count": 53,
   "metadata": {
    "ExecuteTime": {
     "end_time": "2021-06-28T17:17:16.655521Z",
     "start_time": "2021-06-28T17:17:16.642806Z"
    }
   },
   "outputs": [
    {
     "ename": "NameError",
     "evalue": "name 'answer_median_age' is not defined",
     "output_type": "error",
     "traceback": [
      "\u001b[0;31m---------------------------------------------------------------------------\u001b[0m",
      "\u001b[0;31mNameError\u001b[0m                                 Traceback (most recent call last)",
      "\u001b[0;32m<ipython-input-53-dd46f461d319>\u001b[0m in \u001b[0;36m<module>\u001b[0;34m\u001b[0m\n\u001b[1;32m      1\u001b[0m \u001b[0;32mimport\u001b[0m \u001b[0mjson\u001b[0m\u001b[0;34m\u001b[0m\u001b[0;34m\u001b[0m\u001b[0m\n\u001b[0;32m----> 2\u001b[0;31m answers_inference = {\"MEDIAN_AGE\": answer_median_age,\n\u001b[0m\u001b[1;32m      3\u001b[0m                     \u001b[0;34m\"T_STAT\"\u001b[0m\u001b[0;34m:\u001b[0m\u001b[0manswer_t_statistic\u001b[0m\u001b[0;34m,\u001b[0m\u001b[0;34m\u001b[0m\u001b[0;34m\u001b[0m\u001b[0m\n\u001b[1;32m      4\u001b[0m                      \u001b[0;34m\"P_VALUE\"\u001b[0m\u001b[0;34m:\u001b[0m \u001b[0manswer_p_value\u001b[0m\u001b[0;34m,\u001b[0m\u001b[0;34m\u001b[0m\u001b[0;34m\u001b[0m\u001b[0m\n\u001b[1;32m      5\u001b[0m                      \u001b[0;34m\"INCREASE\"\u001b[0m\u001b[0;34m:\u001b[0m \u001b[0manswer_how_much_increase\u001b[0m\u001b[0;34m,\u001b[0m\u001b[0;34m\u001b[0m\u001b[0;34m\u001b[0m\u001b[0m\n",
      "\u001b[0;31mNameError\u001b[0m: name 'answer_median_age' is not defined"
     ]
    }
   ],
   "source": [
    "import json\n",
    "answers_inference = {\"MEDIAN_AGE\": answer_median_age,\n",
    "                    \"T_STAT\":answer_t_statistic,\n",
    "                     \"P_VALUE\": answer_p_value,\n",
    "                     \"INCREASE\": answer_how_much_increase,\n",
    "                     \"LIMITATIONS\": answer_limitations}\n",
    "\n",
    "with open(\"tests/answers_inference.json\", \"w\", encoding=\"utf-8\") as f:\n",
    "    json.dump(answers_inference, f, ensure_ascii=False, indent=4)\n",
    "\n",
    "ChallengeResult(\n",
    "    'linear_regression_analysis',\n",
    "    model=model,\n",
    "    numerator=numerator,\n",
    "    denominator=denominator,\n",
    "    t=t_median_age,\n",
    "    pvalue=pvalue_median_age,\n",
    "    regressors=significant_regressors\n",
    ").write()"
   ]
  },
  {
   "cell_type": "markdown",
   "metadata": {
    "slideshow": {
     "slide_type": "slide"
    }
   },
   "source": [
    "# 2. Analysis for the police department"
   ]
  },
  {
   "cell_type": "markdown",
   "metadata": {},
   "source": [
    "The head of the Police Department of Boston, who read your report for the Mayor's team, was extremely interested in the results. He contacted your consulting firm for an additional presentation, that would focus on the nature of crimes that take place in Boston, the potential time trends that you could identify and/or the heterogeneity of the impact of criminality on the different police districts. "
   ]
  },
  {
   "cell_type": "markdown",
   "metadata": {},
   "source": [
    "## 2.1 Start with a fresh dataset"
   ]
  },
  {
   "cell_type": "markdown",
   "metadata": {},
   "source": [
    "You will start from a fresh dataset, that corresponds more or less to the `incident_reports` table of the database."
   ]
  },
  {
   "cell_type": "code",
   "execution_count": 32,
   "metadata": {
    "ExecuteTime": {
     "end_time": "2021-06-28T15:36:26.348930Z",
     "start_time": "2021-06-28T15:36:09.809541Z"
    }
   },
   "outputs": [
    {
     "name": "stdout",
     "output_type": "stream",
     "text": [
      "  % Total    % Received % Xferd  Average Speed   Time    Time     Time  Current\n",
      "                                 Dload  Upload   Total   Spent    Left  Speed\n",
      "100 19.1M  100 19.1M    0     0  2529k      0  0:00:07  0:00:07 --:--:-- 2863k\n",
      "  % Total    % Received % Xferd  Average Speed   Time    Time     Time  Current\n",
      "                                 Dload  Upload   Total   Spent    Left  Speed\n",
      "100   498  100   498    0     0   2305      0 --:--:-- --:--:-- --:--:--  2316\n"
     ]
    }
   ],
   "source": [
    "# Run this cell to download the datasets in the data directory\n",
    "!curl https://wagon-public-datasets.s3.amazonaws.com/certification_france_2021_q2/incident_reports.csv > data/incident_reports.csv   \n",
    "!curl https://wagon-public-datasets.s3.amazonaws.com/certification_france_2021_q2/districts.csv > data/districts.csv    "
   ]
  },
  {
   "cell_type": "code",
   "execution_count": 33,
   "metadata": {
    "ExecuteTime": {
     "end_time": "2021-06-28T15:39:38.642800Z",
     "start_time": "2021-06-28T15:39:38.105370Z"
    }
   },
   "outputs": [
    {
     "name": "stdout",
     "output_type": "stream",
     "text": [
      "Shape of the DataFrame: (237221, 9)\n"
     ]
    },
    {
     "data": {
      "text/html": [
       "<div>\n",
       "<style scoped>\n",
       "    .dataframe tbody tr th:only-of-type {\n",
       "        vertical-align: middle;\n",
       "    }\n",
       "\n",
       "    .dataframe tbody tr th {\n",
       "        vertical-align: top;\n",
       "    }\n",
       "\n",
       "    .dataframe thead th {\n",
       "        text-align: right;\n",
       "    }\n",
       "</style>\n",
       "<table border=\"1\" class=\"dataframe\">\n",
       "  <thead>\n",
       "    <tr style=\"text-align: right;\">\n",
       "      <th></th>\n",
       "      <th>INCIDENT_NUMBER</th>\n",
       "      <th>OFFENSE_CODE_GROUP</th>\n",
       "      <th>SHOOTING</th>\n",
       "      <th>OCCURRED_ON_DATE</th>\n",
       "      <th>LAT</th>\n",
       "      <th>LONG</th>\n",
       "      <th>NAME</th>\n",
       "      <th>LAT_POLICE_STATION</th>\n",
       "      <th>LONG_POLICE_STATION</th>\n",
       "    </tr>\n",
       "  </thead>\n",
       "  <tbody>\n",
       "    <tr>\n",
       "      <th>0</th>\n",
       "      <td>I192068249</td>\n",
       "      <td>Other</td>\n",
       "      <td>0</td>\n",
       "      <td>2015-08-28 10:20:00</td>\n",
       "      <td>42.330119</td>\n",
       "      <td>-71.084251</td>\n",
       "      <td>Roxbury</td>\n",
       "      <td>42.328894</td>\n",
       "      <td>-71.085359</td>\n",
       "    </tr>\n",
       "    <tr>\n",
       "      <th>1</th>\n",
       "      <td>I182074094</td>\n",
       "      <td>Violence and harassment</td>\n",
       "      <td>0</td>\n",
       "      <td>2015-09-14 09:31:00</td>\n",
       "      <td>42.315142</td>\n",
       "      <td>-71.067047</td>\n",
       "      <td>Roxbury</td>\n",
       "      <td>42.328894</td>\n",
       "      <td>-71.085359</td>\n",
       "    </tr>\n",
       "    <tr>\n",
       "      <th>2</th>\n",
       "      <td>I182054888</td>\n",
       "      <td>Violence and harassment</td>\n",
       "      <td>0</td>\n",
       "      <td>2015-07-12 15:37:00</td>\n",
       "      <td>42.312243</td>\n",
       "      <td>-71.075499</td>\n",
       "      <td>Roxbury</td>\n",
       "      <td>42.328894</td>\n",
       "      <td>-71.085359</td>\n",
       "    </tr>\n",
       "    <tr>\n",
       "      <th>3</th>\n",
       "      <td>I182054888</td>\n",
       "      <td>Other</td>\n",
       "      <td>0</td>\n",
       "      <td>2015-07-12 15:37:00</td>\n",
       "      <td>42.312243</td>\n",
       "      <td>-71.075499</td>\n",
       "      <td>Roxbury</td>\n",
       "      <td>42.328894</td>\n",
       "      <td>-71.085359</td>\n",
       "    </tr>\n",
       "    <tr>\n",
       "      <th>4</th>\n",
       "      <td>I182054888</td>\n",
       "      <td>Other</td>\n",
       "      <td>0</td>\n",
       "      <td>2015-07-12 15:37:00</td>\n",
       "      <td>42.312243</td>\n",
       "      <td>-71.075499</td>\n",
       "      <td>Roxbury</td>\n",
       "      <td>42.328894</td>\n",
       "      <td>-71.085359</td>\n",
       "    </tr>\n",
       "  </tbody>\n",
       "</table>\n",
       "</div>"
      ],
      "text/plain": [
       "  INCIDENT_NUMBER       OFFENSE_CODE_GROUP  SHOOTING     OCCURRED_ON_DATE  \\\n",
       "0      I192068249                    Other         0  2015-08-28 10:20:00   \n",
       "1      I182074094  Violence and harassment         0  2015-09-14 09:31:00   \n",
       "2      I182054888  Violence and harassment         0  2015-07-12 15:37:00   \n",
       "3      I182054888                    Other         0  2015-07-12 15:37:00   \n",
       "4      I182054888                    Other         0  2015-07-12 15:37:00   \n",
       "\n",
       "         LAT       LONG     NAME  LAT_POLICE_STATION  LONG_POLICE_STATION  \n",
       "0  42.330119 -71.084251  Roxbury           42.328894           -71.085359  \n",
       "1  42.315142 -71.067047  Roxbury           42.328894           -71.085359  \n",
       "2  42.312243 -71.075499  Roxbury           42.328894           -71.085359  \n",
       "3  42.312243 -71.075499  Roxbury           42.328894           -71.085359  \n",
       "4  42.312243 -71.075499  Roxbury           42.328894           -71.085359  "
      ]
     },
     "execution_count": 33,
     "metadata": {},
     "output_type": "execute_result"
    }
   ],
   "source": [
    "# Load the dataset\n",
    "from data import load_data_viz_data\n",
    "\n",
    "data = load_data_viz_data()\n",
    "data[['LAT','LONG']] = data[['LAT','LONG']].astype('float64')\n",
    "\n",
    "print(\"Shape of the DataFrame:\", data.shape)\n",
    "\n",
    "data.head()"
   ]
  },
  {
   "cell_type": "code",
   "execution_count": 60,
   "metadata": {
    "slideshow": {
     "slide_type": "slide"
    }
   },
   "outputs": [
    {
     "data": {
      "text/plain": [
       "[<matplotlib.lines.Line2D at 0x7f4f1fdb8970>]"
      ]
     },
     "execution_count": 60,
     "metadata": {},
     "output_type": "execute_result"
    },
    {
     "data": {
      "image/png": "[encoded data removed]",
      "text/plain": [
       "<Figure size 432x288 with 1 Axes>"
      ]
     },
     "metadata": {
      "needs_background": "light"
     },
     "output_type": "display_data"
    }
   ],
   "source": [
    "import matplotlib.pyplot as plt\n",
    "\n",
    "plt.plot(data['SHOOTING'], data['NAME'])"
   ]
  },
  {
   "cell_type": "markdown",
   "metadata": {},
   "source": [
    "## 2.1 Further data manipulations"
   ]
  },
  {
   "cell_type": "markdown",
   "metadata": {},
   "source": [
    "In this section, we are going to answer two specific questions that the head of the Police Department of Boston asked your team, about the characteristics of the incidents that occur in the various districts of the municipality."
   ]
  },
  {
   "cell_type": "markdown",
   "metadata": {},
   "source": [
    "### 2.1.1 Most represented type of incident per district"
   ]
  },
  {
   "cell_type": "markdown",
   "metadata": {},
   "source": [
    "First, the head of the Police Department of Boston wants to know what incident category is most often found in each district. \n",
    "\n",
    "**📝 Construct a DataFrame with**\n",
    "- **one row per police district, designated by its full name**\n",
    "- **one text column that indicates the name of the most common category of incident in the district over the whole sample period.**\n",
    "\n",
    "💡 Hint: you may need to first define a custom aggregation function."
   ]
  },
  {
   "cell_type": "code",
   "execution_count": 58,
   "metadata": {
    "collapsed": true
   },
   "outputs": [
    {
     "ename": "ValueError",
     "evalue": "Length of values (12) does not match length of index (237221)",
     "output_type": "error",
     "traceback": [
      "\u001b[0;31m---------------------------------------------------------------------------\u001b[0m",
      "\u001b[0;31mValueError\u001b[0m                                Traceback (most recent call last)",
      "\u001b[0;32m<ipython-input-58-d1902748b629>\u001b[0m in \u001b[0;36m<module>\u001b[0;34m\u001b[0m\n\u001b[0;32m----> 1\u001b[0;31m \u001b[0mdata\u001b[0m\u001b[0;34m[\u001b[0m\u001b[0;34m'INCIDENT_NUMBER'\u001b[0m\u001b[0;34m]\u001b[0m \u001b[0;34m=\u001b[0m \u001b[0mdata\u001b[0m\u001b[0;34m[\u001b[0m\u001b[0;34m'INCIDENT_NUMBER'\u001b[0m\u001b[0;34m]\u001b[0m\u001b[0;34m.\u001b[0m\u001b[0mgroupby\u001b[0m\u001b[0;34m(\u001b[0m\u001b[0mdata\u001b[0m\u001b[0;34m[\u001b[0m\u001b[0;34m'NAME'\u001b[0m\u001b[0;34m]\u001b[0m\u001b[0;34m)\u001b[0m\u001b[0;34m\u001b[0m\u001b[0;34m\u001b[0m\u001b[0m\n\u001b[0m",
      "\u001b[0;32m~/.pyenv/versions/3.8.6/envs/lewagon/lib/python3.8/site-packages/pandas/core/frame.py\u001b[0m in \u001b[0;36m__setitem__\u001b[0;34m(self, key, value)\u001b[0m\n\u001b[1;32m   3161\u001b[0m         \u001b[0;32melse\u001b[0m\u001b[0;34m:\u001b[0m\u001b[0;34m\u001b[0m\u001b[0;34m\u001b[0m\u001b[0m\n\u001b[1;32m   3162\u001b[0m             \u001b[0;31m# set column\u001b[0m\u001b[0;34m\u001b[0m\u001b[0;34m\u001b[0m\u001b[0;34m\u001b[0m\u001b[0m\n\u001b[0;32m-> 3163\u001b[0;31m             \u001b[0mself\u001b[0m\u001b[0;34m.\u001b[0m\u001b[0m_set_item\u001b[0m\u001b[0;34m(\u001b[0m\u001b[0mkey\u001b[0m\u001b[0;34m,\u001b[0m \u001b[0mvalue\u001b[0m\u001b[0;34m)\u001b[0m\u001b[0;34m\u001b[0m\u001b[0;34m\u001b[0m\u001b[0m\n\u001b[0m\u001b[1;32m   3164\u001b[0m \u001b[0;34m\u001b[0m\u001b[0m\n\u001b[1;32m   3165\u001b[0m     \u001b[0;32mdef\u001b[0m \u001b[0m_setitem_slice\u001b[0m\u001b[0;34m(\u001b[0m\u001b[0mself\u001b[0m\u001b[0;34m,\u001b[0m \u001b[0mkey\u001b[0m\u001b[0;34m:\u001b[0m \u001b[0mslice\u001b[0m\u001b[0;34m,\u001b[0m \u001b[0mvalue\u001b[0m\u001b[0;34m)\u001b[0m\u001b[0;34m:\u001b[0m\u001b[0;34m\u001b[0m\u001b[0;34m\u001b[0m\u001b[0m\n",
      "\u001b[0;32m~/.pyenv/versions/3.8.6/envs/lewagon/lib/python3.8/site-packages/pandas/core/frame.py\u001b[0m in \u001b[0;36m_set_item\u001b[0;34m(self, key, value)\u001b[0m\n\u001b[1;32m   3240\u001b[0m         \"\"\"\n\u001b[1;32m   3241\u001b[0m         \u001b[0mself\u001b[0m\u001b[0;34m.\u001b[0m\u001b[0m_ensure_valid_index\u001b[0m\u001b[0;34m(\u001b[0m\u001b[0mvalue\u001b[0m\u001b[0;34m)\u001b[0m\u001b[0;34m\u001b[0m\u001b[0;34m\u001b[0m\u001b[0m\n\u001b[0;32m-> 3242\u001b[0;31m         \u001b[0mvalue\u001b[0m \u001b[0;34m=\u001b[0m \u001b[0mself\u001b[0m\u001b[0;34m.\u001b[0m\u001b[0m_sanitize_column\u001b[0m\u001b[0;34m(\u001b[0m\u001b[0mkey\u001b[0m\u001b[0;34m,\u001b[0m \u001b[0mvalue\u001b[0m\u001b[0;34m)\u001b[0m\u001b[0;34m\u001b[0m\u001b[0;34m\u001b[0m\u001b[0m\n\u001b[0m\u001b[1;32m   3243\u001b[0m         \u001b[0mNDFrame\u001b[0m\u001b[0;34m.\u001b[0m\u001b[0m_set_item\u001b[0m\u001b[0;34m(\u001b[0m\u001b[0mself\u001b[0m\u001b[0;34m,\u001b[0m \u001b[0mkey\u001b[0m\u001b[0;34m,\u001b[0m \u001b[0mvalue\u001b[0m\u001b[0;34m)\u001b[0m\u001b[0;34m\u001b[0m\u001b[0;34m\u001b[0m\u001b[0m\n\u001b[1;32m   3244\u001b[0m \u001b[0;34m\u001b[0m\u001b[0m\n",
      "\u001b[0;32m~/.pyenv/versions/3.8.6/envs/lewagon/lib/python3.8/site-packages/pandas/core/frame.py\u001b[0m in \u001b[0;36m_sanitize_column\u001b[0;34m(self, key, value, broadcast)\u001b[0m\n\u001b[1;32m   3897\u001b[0m \u001b[0;34m\u001b[0m\u001b[0m\n\u001b[1;32m   3898\u001b[0m             \u001b[0;31m# turn me into an ndarray\u001b[0m\u001b[0;34m\u001b[0m\u001b[0;34m\u001b[0m\u001b[0;34m\u001b[0m\u001b[0m\n\u001b[0;32m-> 3899\u001b[0;31m             \u001b[0mvalue\u001b[0m \u001b[0;34m=\u001b[0m \u001b[0msanitize_index\u001b[0m\u001b[0;34m(\u001b[0m\u001b[0mvalue\u001b[0m\u001b[0;34m,\u001b[0m \u001b[0mself\u001b[0m\u001b[0;34m.\u001b[0m\u001b[0mindex\u001b[0m\u001b[0;34m)\u001b[0m\u001b[0;34m\u001b[0m\u001b[0;34m\u001b[0m\u001b[0m\n\u001b[0m\u001b[1;32m   3900\u001b[0m             \u001b[0;32mif\u001b[0m \u001b[0;32mnot\u001b[0m \u001b[0misinstance\u001b[0m\u001b[0;34m(\u001b[0m\u001b[0mvalue\u001b[0m\u001b[0;34m,\u001b[0m \u001b[0;34m(\u001b[0m\u001b[0mnp\u001b[0m\u001b[0;34m.\u001b[0m\u001b[0mndarray\u001b[0m\u001b[0;34m,\u001b[0m \u001b[0mIndex\u001b[0m\u001b[0;34m)\u001b[0m\u001b[0;34m)\u001b[0m\u001b[0;34m:\u001b[0m\u001b[0;34m\u001b[0m\u001b[0;34m\u001b[0m\u001b[0m\n\u001b[1;32m   3901\u001b[0m                 \u001b[0;32mif\u001b[0m \u001b[0misinstance\u001b[0m\u001b[0;34m(\u001b[0m\u001b[0mvalue\u001b[0m\u001b[0;34m,\u001b[0m \u001b[0mlist\u001b[0m\u001b[0;34m)\u001b[0m \u001b[0;32mand\u001b[0m \u001b[0mlen\u001b[0m\u001b[0;34m(\u001b[0m\u001b[0mvalue\u001b[0m\u001b[0;34m)\u001b[0m \u001b[0;34m>\u001b[0m \u001b[0;36m0\u001b[0m\u001b[0;34m:\u001b[0m\u001b[0;34m\u001b[0m\u001b[0;34m\u001b[0m\u001b[0m\n",
      "\u001b[0;32m~/.pyenv/versions/3.8.6/envs/lewagon/lib/python3.8/site-packages/pandas/core/internals/construction.py\u001b[0m in \u001b[0;36msanitize_index\u001b[0;34m(data, index)\u001b[0m\n\u001b[1;32m    749\u001b[0m     \"\"\"\n\u001b[1;32m    750\u001b[0m     \u001b[0;32mif\u001b[0m \u001b[0mlen\u001b[0m\u001b[0;34m(\u001b[0m\u001b[0mdata\u001b[0m\u001b[0;34m)\u001b[0m \u001b[0;34m!=\u001b[0m \u001b[0mlen\u001b[0m\u001b[0;34m(\u001b[0m\u001b[0mindex\u001b[0m\u001b[0;34m)\u001b[0m\u001b[0;34m:\u001b[0m\u001b[0;34m\u001b[0m\u001b[0;34m\u001b[0m\u001b[0m\n\u001b[0;32m--> 751\u001b[0;31m         raise ValueError(\n\u001b[0m\u001b[1;32m    752\u001b[0m             \u001b[0;34m\"Length of values \"\u001b[0m\u001b[0;34m\u001b[0m\u001b[0;34m\u001b[0m\u001b[0m\n\u001b[1;32m    753\u001b[0m             \u001b[0;34mf\"({len(data)}) \"\u001b[0m\u001b[0;34m\u001b[0m\u001b[0;34m\u001b[0m\u001b[0m\n",
      "\u001b[0;31mValueError\u001b[0m: Length of values (12) does not match length of index (237221)"
     ]
    }
   ],
   "source": [
    "data['INCIDENT_NUMBER'] = data['INCIDENT_NUMBER'].groupby(data['NAME'])"
   ]
  },
  {
   "cell_type": "code",
   "execution_count": null,
   "metadata": {},
   "outputs": [],
   "source": [
    "def type_of_incident(data):\n",
    "    df = data['INCIDENT_NUMBER'].groupby(data['NAME']).value_counts()\n",
    "    return df"
   ]
  },
  {
   "cell_type": "code",
   "execution_count": 34,
   "metadata": {},
   "outputs": [
    {
     "data": {
      "text/plain": [
       "Index(['INCIDENT_NUMBER', 'OFFENSE_CODE_GROUP', 'SHOOTING', 'OCCURRED_ON_DATE',\n",
       "       'LAT', 'LONG', 'NAME', 'LAT_POLICE_STATION', 'LONG_POLICE_STATION'],\n",
       "      dtype='object')"
      ]
     },
     "execution_count": 34,
     "metadata": {},
     "output_type": "execute_result"
    }
   ],
   "source": [
    "data.columns"
   ]
  },
  {
   "cell_type": "code",
   "execution_count": 36,
   "metadata": {
    "ExecuteTime": {
     "end_time": "2021-06-28T15:46:29.927535Z",
     "start_time": "2021-06-28T15:46:29.925171Z"
    },
    "tags": [
     "challengify"
    ]
   },
   "outputs": [
    {
     "data": {
      "text/plain": [
       "<bound method NDFrame.head of                NAME              OFFENSE_CODE_GROUP\n",
       "0           Roxbury                           Other\n",
       "1           Roxbury         Violence and harassment\n",
       "2           Roxbury         Violence and harassment\n",
       "3           Roxbury                           Other\n",
       "4           Roxbury                           Other\n",
       "...             ...                             ...\n",
       "237216  Charlestown  Police investigation procedure\n",
       "237217  Charlestown    Drugs and disorderly conduct\n",
       "237218  Charlestown                           Other\n",
       "237219  Charlestown  Police investigation procedure\n",
       "237220  Charlestown         Violence and harassment\n",
       "\n",
       "[237221 rows x 2 columns]>"
      ]
     },
     "execution_count": 36,
     "metadata": {},
     "output_type": "execute_result"
    }
   ],
   "source": [
    "df = data[['NAME','OFFENSE_CODE_GROUP']]\n",
    "df.head"
   ]
  },
  {
   "cell_type": "code",
   "execution_count": null,
   "metadata": {},
   "outputs": [],
   "source": []
  },
  {
   "cell_type": "markdown",
   "metadata": {},
   "source": [
    "**❓ Can you tell what is the second most common offense int the Brighton district?**"
   ]
  },
  {
   "cell_type": "code",
   "execution_count": 193,
   "metadata": {
    "ExecuteTime": {
     "end_time": "2021-06-28T16:53:18.862615Z",
     "start_time": "2021-06-28T16:53:18.859459Z"
    }
   },
   "outputs": [],
   "source": [
    "second_most_common_offence = \"...\""
   ]
  },
  {
   "cell_type": "markdown",
   "metadata": {},
   "source": [
    "### Average distance to the police station per district"
   ]
  },
  {
   "cell_type": "markdown",
   "metadata": {},
   "source": [
    "Second, based on the Haversine distance function defined below, the head of the Police Department would like to know, for each district, **the average distance between the location of the incident and the police station**. \n",
    "\n",
    "**📝 Construct a DataFrame with one row per police district, designated by its full name, and one column that displays this average Haversine distance.**"
   ]
  },
  {
   "cell_type": "code",
   "execution_count": 56,
   "metadata": {
    "ExecuteTime": {
     "end_time": "2021-06-28T16:46:06.308723Z",
     "start_time": "2021-06-28T16:46:06.302961Z"
    }
   },
   "outputs": [],
   "source": [
    "# Haversine distance function\n",
    "from math import radians, sin, cos, asin, sqrt\n",
    "\n",
    "def haversine_distance(lon1, lat1, lon2, lat2):\n",
    "    \"\"\"\n",
    "    Compute distance (km) between two pairs of (lat, lng) coordinates\n",
    "    See - (https://en.wikipedia.org/wiki/Haversine_formula)\n",
    "    \"\"\"\n",
    "    \n",
    "    lon1, lat1, lon2, lat2 = map(radians, [lon1, lat1, lon2, lat2])\n",
    "    dlon = lon2 - lon1\n",
    "    dlat = lat2 - lat1\n",
    "    \n",
    "    a = sin(dlat / 2) ** 2 + cos(lat1) * cos(lat2) * sin(dlon / 2) ** 2\n",
    "    \n",
    "    return 2 * 6371 * asin(sqrt(a))"
   ]
  },
  {
   "cell_type": "code",
   "execution_count": 188,
   "metadata": {
    "ExecuteTime": {
     "end_time": "2021-06-28T16:51:07.246339Z",
     "start_time": "2021-06-28T16:51:02.907862Z"
    },
    "tags": [
     "challengify"
    ]
   },
   "outputs": [],
   "source": [
    "# YOUR CODE HERE\n"
   ]
  },
  {
   "cell_type": "code",
   "execution_count": 190,
   "metadata": {
    "ExecuteTime": {
     "end_time": "2021-06-28T16:51:33.762774Z",
     "start_time": "2021-06-28T16:51:33.717541Z"
    },
    "scrolled": false,
    "tags": [
     "challengify"
    ]
   },
   "outputs": [],
   "source": [
    "# YOUR CODE HERE"
   ]
  },
  {
   "cell_type": "markdown",
   "metadata": {},
   "source": [
    "**❓ Can you tell what is the average distance between the police station and the offenses in the Brighton district?**"
   ]
  },
  {
   "cell_type": "code",
   "execution_count": 194,
   "metadata": {
    "ExecuteTime": {
     "end_time": "2021-06-28T16:53:43.277892Z",
     "start_time": "2021-06-28T16:53:43.275110Z"
    },
    "tags": [
     "challengify"
    ]
   },
   "outputs": [],
   "source": [
    "# YOUR CODE HERE"
   ]
  },
  {
   "cell_type": "code",
   "execution_count": 195,
   "metadata": {
    "ExecuteTime": {
     "end_time": "2021-06-28T16:54:32.753290Z",
     "start_time": "2021-06-28T16:54:32.748168Z"
    }
   },
   "outputs": [],
   "source": [
    "result = ChallengeResult('manipulation',\n",
    "                         second_most_common_offence=second_most_common_offence,\n",
    "                         average_distance_km=average_distance_km)\n",
    "result.write()"
   ]
  },
  {
   "cell_type": "markdown",
   "metadata": {},
   "source": [
    "# 3. Short presentation (REQUIRED TO VALIDATE THE CERTIFICATION)\n",
    "🚨🚨🚨🚨🚨🚨"
   ]
  },
  {
   "cell_type": "markdown",
   "metadata": {},
   "source": [
    "Using the latest dataset that you loaded, your mission is now to prepare 5 slides (including a title slide) that you would present to the head of the Police Department. You may or may not, as you prefer, include the output of the two \"Further data manipulations\" tasks in your presentation.\n",
    "\n",
    "⚠️  You can use any presentation editor of your choice, but **the slides must be shared either in HTML or in PDF format and saved in the current directory**"
   ]
  },
  {
   "cell_type": "markdown",
   "metadata": {},
   "source": [
    "Before you get started, here are four small pieces of advice:\n",
    "\n",
    "- to prepare your data visualisations, do not hesitate to create a separate, blank notebook; \n",
    "\n",
    "\n",
    "- pay particular attention to the readability and the clarity of your legends, titles, charts and tables; \n",
    "\n",
    "\n",
    "- the Pandas `resample` method might be useful if you want to plot time trends;\n",
    "\n",
    "\n",
    "- keep in mind that you are working with real data and sometimes, data are not very talkative. Do not feel discouraged if your charts do not provide revolutionary insights: typically, an absence of trend is a substantial piece of information!"
   ]
  },
  {
   "cell_type": "markdown",
   "metadata": {},
   "source": [
    "Good luck in changing Boston residents' lives!"
   ]
  },
  {
   "cell_type": "markdown",
   "metadata": {},
   "source": [
    "# A word of conclusion"
   ]
  },
  {
   "cell_type": "markdown",
   "metadata": {},
   "source": [
    "Congratulations for going through the exercise 🎉\n",
    "\n",
    "If you wish to pursue your analysis at some point, note that all datasets (and many others) are publicly available online, on the [Analyze Boston](https://data.boston.gov) website.\n",
    "\n",
    "Besides, if you are interested in the topic, you can start by reading the work of Nobel Prize laureate Gary Becker, who was the first to model crime as a rational phenomenon, similarly to an economic decision. This model, although it has limitations, marked a breakthrough in the study of crime and paved the way for many empirical studies that further analysed the socio-economic determinants of illegal activities. \n",
    "\n",
    "👉 [Link](https://olis.leg.state.or.us/liz/2017R1/Downloads/CommitteeMeetingDocument/125036) to download a full-text version of \"Crime and Punishment: An Economic Approach\" by Becker (1968)"
   ]
  }
 ],
 "metadata": {
  "celltoolbar": "Slideshow",
  "kernelspec": {
   "display_name": "Python 3",
   "language": "python",
   "name": "python3"
  },
  "language_info": {
   "codemirror_mode": {
    "name": "ipython",
    "version": 3
   },
   "file_extension": ".py",
   "mimetype": "text/x-python",
   "name": "python",
   "nbconvert_exporter": "python",
   "pygments_lexer": "ipython3",
   "version": "3.8.6"
  },
  "toc": {
   "base_numbering": 1,
   "nav_menu": {},
   "number_sections": false,
   "sideBar": true,
   "skip_h1_title": false,
   "title_cell": "Table of Contents",
   "title_sidebar": "Contents",
   "toc_cell": false,
   "toc_position": {
    "height": "calc(100% - 180px)",
    "left": "10px",
    "top": "150px",
    "width": "288px"
   },
   "toc_section_display": true,
   "toc_window_display": true
  }
 },
 "nbformat": 4,
 "nbformat_minor": 4
}
